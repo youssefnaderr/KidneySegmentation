{
 "cells": [
  {
   "cell_type": "code",
   "execution_count": 1,
   "id": "0283a600",
   "metadata": {},
   "outputs": [],
   "source": [
    "import os\n",
    "import pandas as pd\n",
    "import tensorflow as tf\n",
    "import time\n",
    "from PIL import Image \n",
    "import numpy as np\n",
    "from tensorflow.keras.preprocessing import image\n",
    "from tensorflow.keras.preprocessing.image import ImageDataGenerator\n",
    "from tensorflow.keras import layers, models\n",
    "from tensorflow.keras.applications import MobileNet\n",
    "from tensorflow.keras.optimizers import Adam"
   ]
  },
  {
   "cell_type": "code",
   "execution_count": 2,
   "id": "0f6f4e4d",
   "metadata": {},
   "outputs": [],
   "source": [
    "def load_images_to_array(folder_path,image_list):\n",
    "    target_size=(224, 224)\n",
    "    normalize=True\n",
    "    for filename in os.listdir(folder_path):\n",
    "        file_path = os.path.join(folder_path, filename)\n",
    "\n",
    "        if filename.lower().endswith(('.tif', '.tiff')):\n",
    "            # Load the image using Pillow\n",
    "            img = Image.open(file_path)\n",
    "\n",
    "            # Resize the image to the target size\n",
    "            img = img.resize(target_size)\n",
    "\n",
    "            # Convert the resized image to a numpy array\n",
    "            img_array = np.array(img)\n",
    "\n",
    "            # Normalize the pixel values\n",
    "            if normalize:\n",
    "                img_array = img_array / 65535.0\n",
    "\n",
    "            # Append the array to the list\n",
    "            image_list.append(img_array)\n",
    "\n",
    "    # Convert the list of arrays to a numpy array\n",
    "    image_array = np.stack(image_list)\n",
    "\n",
    "    return image_array"
   ]
  },
  {
   "cell_type": "code",
   "execution_count": 3,
   "id": "0205f806",
   "metadata": {},
   "outputs": [],
   "source": [
    "kidney_scans = []"
   ]
  },
  {
   "cell_type": "code",
   "execution_count": 4,
   "id": "7208d20f",
   "metadata": {},
   "outputs": [],
   "source": [
    "mask_scans = []"
   ]
  },
  {
   "cell_type": "code",
   "execution_count": 5,
   "id": "c7921754",
   "metadata": {},
   "outputs": [
    {
     "data": {
      "text/plain": [
       "array([[[0., 0., 0., ..., 0., 0., 0.],\n",
       "        [0., 0., 0., ..., 0., 0., 0.],\n",
       "        [0., 0., 0., ..., 0., 0., 0.],\n",
       "        ...,\n",
       "        [0., 0., 0., ..., 0., 0., 0.],\n",
       "        [0., 0., 0., ..., 0., 0., 0.],\n",
       "        [0., 0., 0., ..., 0., 0., 0.]],\n",
       "\n",
       "       [[0., 0., 0., ..., 0., 0., 0.],\n",
       "        [0., 0., 0., ..., 0., 0., 0.],\n",
       "        [0., 0., 0., ..., 0., 0., 0.],\n",
       "        ...,\n",
       "        [0., 0., 0., ..., 0., 0., 0.],\n",
       "        [0., 0., 0., ..., 0., 0., 0.],\n",
       "        [0., 0., 0., ..., 0., 0., 0.]],\n",
       "\n",
       "       [[0., 0., 0., ..., 0., 0., 0.],\n",
       "        [0., 0., 0., ..., 0., 0., 0.],\n",
       "        [0., 0., 0., ..., 0., 0., 0.],\n",
       "        ...,\n",
       "        [0., 0., 0., ..., 0., 0., 0.],\n",
       "        [0., 0., 0., ..., 0., 0., 0.],\n",
       "        [0., 0., 0., ..., 0., 0., 0.]],\n",
       "\n",
       "       ...,\n",
       "\n",
       "       [[0., 0., 0., ..., 0., 0., 0.],\n",
       "        [0., 0., 0., ..., 0., 0., 0.],\n",
       "        [0., 0., 0., ..., 0., 0., 0.],\n",
       "        ...,\n",
       "        [0., 0., 0., ..., 0., 0., 0.],\n",
       "        [0., 0., 0., ..., 0., 0., 0.],\n",
       "        [0., 0., 0., ..., 0., 0., 0.]],\n",
       "\n",
       "       [[0., 0., 0., ..., 0., 0., 0.],\n",
       "        [0., 0., 0., ..., 0., 0., 0.],\n",
       "        [0., 0., 0., ..., 0., 0., 0.],\n",
       "        ...,\n",
       "        [0., 0., 0., ..., 0., 0., 0.],\n",
       "        [0., 0., 0., ..., 0., 0., 0.],\n",
       "        [0., 0., 0., ..., 0., 0., 0.]],\n",
       "\n",
       "       [[0., 0., 0., ..., 0., 0., 0.],\n",
       "        [0., 0., 0., ..., 0., 0., 0.],\n",
       "        [0., 0., 0., ..., 0., 0., 0.],\n",
       "        ...,\n",
       "        [0., 0., 0., ..., 0., 0., 0.],\n",
       "        [0., 0., 0., ..., 0., 0., 0.],\n",
       "        [0., 0., 0., ..., 0., 0., 0.]]])"
      ]
     },
     "execution_count": 5,
     "metadata": {},
     "output_type": "execute_result"
    }
   ],
   "source": [
    "load_images_to_array(\"C:/Users/youss/OneDrive - aucegypt.edu/Desktop/kidney project/dataset/blood-vessel-segmentation/train/kidney_1_dense/images\",kidney_scans)\n",
    "load_images_to_array(\"C:/Users/youss/OneDrive - aucegypt.edu/Desktop/kidney project/dataset/blood-vessel-segmentation/train/kidney_1_dense/labels\",mask_scans)\n",
    "#kidney_1_dense\n",
    "\n",
    "load_images_to_array(\"C:/Users/youss/OneDrive - aucegypt.edu/Desktop/kidney project/dataset/blood-vessel-segmentation/train/kidney_1_voi/images\",kidney_scans)\n",
    "load_images_to_array(\"C:/Users/youss/OneDrive - aucegypt.edu/Desktop/kidney project/dataset/blood-vessel-segmentation/train/kidney_1_voi/labels\",mask_scans)\n",
    "#kidney_1_voi\n",
    "\n",
    "\n",
    "load_images_to_array(\"C:/Users/youss/OneDrive - aucegypt.edu/Desktop/kidney project/dataset/blood-vessel-segmentation/train/kidney_2/images\",kidney_scans)\n",
    "load_images_to_array(\"C:/Users/youss/OneDrive - aucegypt.edu/Desktop/kidney project/dataset/blood-vessel-segmentation/train/kidney_2/labels\",mask_scans)\n",
    "#kidney_2\n",
    "\n",
    "load_images_to_array(\"C:/Users/youss/OneDrive - aucegypt.edu/Desktop/kidney project/dataset/blood-vessel-segmentation/train/kidney_3_sparse/images\",kidney_scans)\n",
    "load_images_to_array(\"C:/Users/youss/OneDrive - aucegypt.edu/Desktop/kidney project/dataset/blood-vessel-segmentation/train/kidney_3_sparse/labels\",mask_scans)\n",
    "#kidney_3_sparse"
   ]
  },
  {
   "cell_type": "code",
   "execution_count": 6,
   "id": "1eb2cb0e",
   "metadata": {},
   "outputs": [],
   "source": [
    "kidneys = np.array(kidney_scans)\n",
    "masks = np.array(mask_scans)"
   ]
  },
  {
   "cell_type": "code",
   "execution_count": 7,
   "id": "2e65c382",
   "metadata": {},
   "outputs": [],
   "source": [
    "# Set a random seed for reproducibility\n",
    "seed = 42\n",
    "np.random.seed(seed)\n",
    "\n",
    "# Create an array of indices and shuffle it\n",
    "indices = np.arange(len(kidneys))\n",
    "np.random.shuffle(indices)\n",
    "\n",
    "# Use the shuffled indices to shuffle both arrays\n",
    "shuffled_kidneys = kidneys[indices]\n",
    "shuffled_masks = masks[indices]\n"
   ]
  },
  {
   "cell_type": "code",
   "execution_count": 8,
   "id": "1462e6ae",
   "metadata": {},
   "outputs": [],
   "source": [
    "from sklearn.model_selection import train_test_split\n",
    "\n",
    "# Split the data into training (90%), dev (5%), and test (5%)\n",
    "kidneys_train, kidneys_temp, masks_train, masks_temp = train_test_split(\n",
    "    shuffled_kidneys, shuffled_masks, test_size=0.1, random_state=seed\n",
    ")\n",
    "\n",
    "# Further split the temp sets into dev and test\n",
    "kidneys_dev, kidneys_test, masks_dev, masks_test = train_test_split(\n",
    "    kidneys_temp, masks_temp, test_size=0.5, random_state=seed\n",
    ")\n"
   ]
  },
  {
   "cell_type": "code",
   "execution_count": 9,
   "id": "5485e51c",
   "metadata": {},
   "outputs": [
    {
     "data": {
      "text/plain": [
       "(6235, 224, 224)"
      ]
     },
     "execution_count": 9,
     "metadata": {},
     "output_type": "execute_result"
    }
   ],
   "source": [
    "kidneys_train.shape"
   ]
  },
  {
   "cell_type": "code",
   "execution_count": 19,
   "id": "43d7cfc2",
   "metadata": {},
   "outputs": [
    {
     "name": "stdout",
     "output_type": "stream",
     "text": [
      "Model: \"model_4\"\n",
      "__________________________________________________________________________________________________\n",
      " Layer (type)                   Output Shape         Param #     Connected to                     \n",
      "==================================================================================================\n",
      " input_3 (InputLayer)           [(None, 224, 224, 1  0           []                               \n",
      "                                )]                                                                \n",
      "                                                                                                  \n",
      " conv2d_6 (Conv2D)              (None, 224, 224, 64  640         ['input_3[0][0]']                \n",
      "                                )                                                                 \n",
      "                                                                                                  \n",
      " max_pooling2d (MaxPooling2D)   (None, 112, 112, 64  0           ['conv2d_6[0][0]']               \n",
      "                                )                                                                 \n",
      "                                                                                                  \n",
      " conv2d_7 (Conv2D)              (None, 112, 112, 12  73856       ['max_pooling2d[0][0]']          \n",
      "                                8)                                                                \n",
      "                                                                                                  \n",
      " max_pooling2d_1 (MaxPooling2D)  (None, 56, 56, 128)  0          ['conv2d_7[0][0]']               \n",
      "                                                                                                  \n",
      " conv2d_8 (Conv2D)              (None, 56, 56, 256)  295168      ['max_pooling2d_1[0][0]']        \n",
      "                                                                                                  \n",
      " up_sampling2d_4 (UpSampling2D)  (None, 112, 112, 25  0          ['conv2d_8[0][0]']               \n",
      "                                6)                                                                \n",
      "                                                                                                  \n",
      " conv2d_9 (Conv2D)              (None, 112, 112, 12  295040      ['up_sampling2d_4[0][0]']        \n",
      "                                8)                                                                \n",
      "                                                                                                  \n",
      " concatenate (Concatenate)      (None, 112, 112, 25  0           ['conv2d_9[0][0]',               \n",
      "                                6)                                'conv2d_7[0][0]']               \n",
      "                                                                                                  \n",
      " up_sampling2d_5 (UpSampling2D)  (None, 224, 224, 25  0          ['concatenate[0][0]']            \n",
      "                                6)                                                                \n",
      "                                                                                                  \n",
      " conv2d_10 (Conv2D)             (None, 224, 224, 64  147520      ['up_sampling2d_5[0][0]']        \n",
      "                                )                                                                 \n",
      "                                                                                                  \n",
      " concatenate_1 (Concatenate)    (None, 224, 224, 12  0           ['conv2d_10[0][0]',              \n",
      "                                8)                                'conv2d_6[0][0]']               \n",
      "                                                                                                  \n",
      " conv2d_11 (Conv2D)             (None, 224, 224, 1)  129         ['concatenate_1[0][0]']          \n",
      "                                                                                                  \n",
      "==================================================================================================\n",
      "Total params: 812,353\n",
      "Trainable params: 812,353\n",
      "Non-trainable params: 0\n",
      "__________________________________________________________________________________________________\n"
     ]
    }
   ],
   "source": [
    "from tensorflow.keras.models import Model\n",
    "from tensorflow.keras.layers import Input, Conv2D, MaxPooling2D, UpSampling2D, concatenate\n",
    "\n",
    "# Define the U-Net model\n",
    "def unet_model(input_shape):\n",
    "    inputs = Input(input_shape)\n",
    "\n",
    "    # Encoder\n",
    "    conv1 = Conv2D(64, (3, 3), activation='relu', padding='same')(inputs)\n",
    "    pool1 = MaxPooling2D(pool_size=(2, 2))(conv1)\n",
    "\n",
    "    conv2 = Conv2D(128, (3, 3), activation='relu', padding='same')(pool1)\n",
    "    pool2 = MaxPooling2D(pool_size=(2, 2))(conv2)\n",
    "\n",
    "    # Bottom\n",
    "    conv3 = Conv2D(256, (3, 3), activation='relu', padding='same')(pool2)\n",
    "\n",
    "    # Decoder\n",
    "    up4 = UpSampling2D(size=(2, 2))(conv3)\n",
    "    conv4 = Conv2D(128, (3, 3), activation='relu', padding='same')(up4)\n",
    "    concat4 = concatenate([conv4, conv2], axis=-1)\n",
    "\n",
    "    up5 = UpSampling2D(size=(2, 2))(concat4)\n",
    "    conv5 = Conv2D(64, (3, 3), activation='relu', padding='same')(up5)\n",
    "    concat5 = concatenate([conv5, conv1], axis=-1)\n",
    "\n",
    "    # Output layer\n",
    "    output = Conv2D(1, (1, 1), activation='sigmoid')(concat5)\n",
    "\n",
    "    model = Model(inputs=inputs, outputs=output)\n",
    "    return model\n",
    "\n",
    "# Create the U-Net model\n",
    "input_shape = (224,224,1)  # Adjust the dimensions based on your data\n",
    "unet_binary_segmentation = unet_model(input_shape)\n",
    "\n",
    "# Compile the model\n",
    "unet_binary_segmentation.compile(optimizer='adam', loss='binary_crossentropy', metrics=['accuracy'])\n",
    "\n",
    "# Display the summary of the model\n",
    "unet_binary_segmentation.summary()\n"
   ]
  },
  {
   "cell_type": "code",
   "execution_count": 20,
   "id": "f5902105",
   "metadata": {},
   "outputs": [
    {
     "name": "stdout",
     "output_type": "stream",
     "text": [
      "Epoch 1/10\n",
      "390/390 [==============================] - 3874s 10s/step - loss: 0.0052 - accuracy: 0.9833 - val_loss: 3.5964e-04 - val_accuracy: 0.9864\n",
      "Epoch 2/10\n",
      "390/390 [==============================] - 3775s 10s/step - loss: 3.7549e-04 - accuracy: 0.9858 - val_loss: 3.5964e-04 - val_accuracy: 0.9864\n",
      "Epoch 3/10\n",
      "390/390 [==============================] - 3767s 10s/step - loss: 3.7549e-04 - accuracy: 0.9858 - val_loss: 3.5964e-04 - val_accuracy: 0.9864\n",
      "Epoch 4/10\n",
      "390/390 [==============================] - 3790s 10s/step - loss: 3.7549e-04 - accuracy: 0.9858 - val_loss: 3.5964e-04 - val_accuracy: 0.9864\n",
      "Epoch 5/10\n",
      "390/390 [==============================] - 3771s 10s/step - loss: 3.7549e-04 - accuracy: 0.9858 - val_loss: 3.5964e-04 - val_accuracy: 0.9864\n",
      "Epoch 6/10\n",
      "390/390 [==============================] - 3765s 10s/step - loss: 3.7549e-04 - accuracy: 0.9858 - val_loss: 3.5964e-04 - val_accuracy: 0.9864\n",
      "Epoch 7/10\n",
      "390/390 [==============================] - 3761s 10s/step - loss: 3.7549e-04 - accuracy: 0.9858 - val_loss: 3.5964e-04 - val_accuracy: 0.9864\n",
      "Epoch 8/10\n",
      "390/390 [==============================] - 3765s 10s/step - loss: 3.7549e-04 - accuracy: 0.9858 - val_loss: 3.5964e-04 - val_accuracy: 0.9864\n",
      "Epoch 9/10\n",
      "390/390 [==============================] - 3760s 10s/step - loss: 3.7549e-04 - accuracy: 0.9858 - val_loss: 3.5964e-04 - val_accuracy: 0.9864\n",
      "Epoch 10/10\n",
      "390/390 [==============================] - 3754s 10s/step - loss: 3.7549e-04 - accuracy: 0.9858 - val_loss: 3.5964e-04 - val_accuracy: 0.9864\n"
     ]
    }
   ],
   "source": [
    "from tensorflow.keras.callbacks import ModelCheckpoint\n",
    "# Define ModelCheckpoint to save the best model during training\n",
    "model_checkpoint = ModelCheckpoint('unet_model_best.h5', save_best_only=True, save_weights_only=True)\n",
    "\n",
    "# Train the model\n",
    "batch_size = 16\n",
    "epochs = 10\n",
    "\n",
    "history = unet_binary_segmentation.fit(\n",
    "    kidneys_train, masks_train,\n",
    "    batch_size=batch_size,\n",
    "    epochs=epochs,\n",
    "    validation_data=(kidneys_dev, masks_dev),\n",
    "    callbacks=[model_checkpoint]\n",
    ")"
   ]
  },
  {
   "cell_type": "code",
   "execution_count": 27,
   "id": "4d62b19a",
   "metadata": {},
   "outputs": [
    {
     "name": "stdout",
     "output_type": "stream",
     "text": [
      "1/1 [==============================] - 0s 445ms/step\n"
     ]
    }
   ],
   "source": [
    "# Assuming kidneys_test[50] is a single kidney scan\n",
    "# Add extra dimensions to represent batch size and channels\n",
    "input_kidney_scan = np.expand_dims(kidneys_test[50], axis=(0, -1))\n",
    "\n",
    "# Make predictions\n",
    "predictions = unet_binary_segmentation.predict(input_kidney_scan)"
   ]
  },
  {
   "cell_type": "code",
   "execution_count": null,
   "id": "54a0f443",
   "metadata": {},
   "outputs": [],
   "source": []
  }
 ],
 "metadata": {
  "kernelspec": {
   "display_name": "Python 3 (ipykernel)",
   "language": "python",
   "name": "python3"
  },
  "language_info": {
   "codemirror_mode": {
    "name": "ipython",
    "version": 3
   },
   "file_extension": ".py",
   "mimetype": "text/x-python",
   "name": "python",
   "nbconvert_exporter": "python",
   "pygments_lexer": "ipython3",
   "version": "3.11.3"
  }
 },
 "nbformat": 4,
 "nbformat_minor": 5
}
