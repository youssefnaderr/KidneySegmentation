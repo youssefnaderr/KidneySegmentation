{
 "cells": [
  {
   "cell_type": "code",
   "execution_count": 20,
   "id": "44e8cb3f",
   "metadata": {},
   "outputs": [],
   "source": [
    "def rle_encode(image_array, threshold=0):\n",
    "    rle_list = []\n",
    "    current_run_start = None\n",
    "    current_run_value = None\n",
    "    current_run_length = 0\n",
    "\n",
    "    if image_array.ndim == 3:\n",
    "        # Flatten the image to a 1D array for easier indexing\n",
    "        image_array = image_array.flatten()\n",
    "\n",
    "    for i in range(len(image_array)):\n",
    "        # Threshold the value\n",
    "        value = 1 if image_array[i] > threshold else 0\n",
    "\n",
    "        if current_run_start is None:\n",
    "            current_run_start = i\n",
    "            current_run_value = value\n",
    "            current_run_length = 1\n",
    "        else:\n",
    "            if value == current_run_value:\n",
    "                current_run_length += 1\n",
    "            else:\n",
    "                rle_list.extend([current_run_start, current_run_value, current_run_length])\n",
    "                current_run_start = i\n",
    "                current_run_value = value\n",
    "                current_run_length = 1\n",
    "\n",
    "    if current_run_start is not None:\n",
    "        rle_list.extend([current_run_start, current_run_value, current_run_length])\n",
    "\n",
    "    return ' '.join(map(str, rle_list))\n"
   ]
  },
  {
   "cell_type": "code",
   "execution_count": 2,
   "id": "934c3d8a",
   "metadata": {},
   "outputs": [],
   "source": [
    "import os\n",
    "import pandas as pd\n",
    "import tensorflow as tf\n",
    "import time\n",
    "from PIL import Image \n",
    "import numpy as np\n",
    "from tensorflow.keras.preprocessing import image\n",
    "from tensorflow.keras.preprocessing.image import ImageDataGenerator\n",
    "from tensorflow.keras import layers, models\n",
    "from tensorflow.keras.applications import MobileNet\n",
    "from tensorflow.keras.optimizers import Adam"
   ]
  },
  {
   "cell_type": "code",
   "execution_count": 3,
   "id": "cd88a00c",
   "metadata": {},
   "outputs": [],
   "source": [
    "def load_images_to_array(folder_path,image_list):\n",
    "    target_size=(224, 224)\n",
    "    normalize=True\n",
    "    for filename in os.listdir(folder_path):\n",
    "        file_path = os.path.join(folder_path, filename)\n",
    "\n",
    "        if filename.lower().endswith(('.tif', '.tiff')):\n",
    "            # Load the image using Pillow\n",
    "            img = Image.open(file_path)\n",
    "\n",
    "            # Resize the image to the target size\n",
    "            img = img.resize(target_size)\n",
    "\n",
    "            # Convert the resized image to a numpy array\n",
    "            img_array = np.array(img)\n",
    "\n",
    "            # Normalize the pixel values\n",
    "            if normalize:\n",
    "                img_array = img_array / 65535.0\n",
    "\n",
    "            # Append the array to the list\n",
    "            image_list.append(img_array)\n",
    "\n",
    "    # Convert the list of arrays to a numpy array\n",
    "    image_array = np.stack(image_list)\n",
    "\n",
    "    return image_array"
   ]
  },
  {
   "cell_type": "code",
   "execution_count": 6,
   "id": "f4a82b35",
   "metadata": {},
   "outputs": [],
   "source": [
    "test1_scans = []\n",
    "test2_scans = []"
   ]
  },
  {
   "cell_type": "code",
   "execution_count": 7,
   "id": "a5f82eca",
   "metadata": {},
   "outputs": [
    {
     "data": {
      "text/plain": [
       "array([[[0.33896391, 0.33531701, 0.33975738, ..., 0.32841993,\n",
       "         0.32639048, 0.32413214],\n",
       "        [0.33900969, 0.34077974, 0.33253986, ..., 0.32263676,\n",
       "         0.32536812, 0.32368963],\n",
       "        [0.33630884, 0.34029145, 0.33447776, ..., 0.33060197,\n",
       "         0.3247425 , 0.31946288],\n",
       "        ...,\n",
       "        [0.3314107 , 0.33322652, 0.33473716, ..., 0.31023117,\n",
       "         0.31378653, 0.31747921],\n",
       "        [0.32663462, 0.32494087, 0.32278935, ..., 0.31621271,\n",
       "         0.32111086, 0.32173648],\n",
       "        [0.33836881, 0.33896391, 0.33708705, ..., 0.32443732,\n",
       "         0.31625849, 0.32088197]],\n",
       "\n",
       "       [[0.33731594, 0.33652247, 0.33789578, ..., 0.32463569,\n",
       "         0.32649729, 0.31947814],\n",
       "        [0.3431754 , 0.34535744, 0.33182269, ..., 0.32755016,\n",
       "         0.32573434, 0.32385748],\n",
       "        [0.33524071, 0.34273289, 0.33678187, ..., 0.33116655,\n",
       "         0.32704662, 0.32054627],\n",
       "        ...,\n",
       "        [0.33086137, 0.33313497, 0.32962539, ..., 0.31041428,\n",
       "         0.31766232, 0.3164416 ],\n",
       "        [0.32756542, 0.33507286, 0.32806897, ..., 0.31641108,\n",
       "         0.32118715, 0.31885252],\n",
       "        [0.33408103, 0.33867399, 0.33395895, ..., 0.31776913,\n",
       "         0.31937133, 0.31850156]],\n",
       "\n",
       "       [[0.3381857 , 0.33534752, 0.34048981, ..., 0.32784009,\n",
       "         0.32747387, 0.32225528],\n",
       "        [0.34187839, 0.34448768, 0.33058671, ..., 0.33011368,\n",
       "         0.32237736, 0.32339971],\n",
       "        [0.34157321, 0.34065766, 0.33629358, ..., 0.32434577,\n",
       "         0.32707713, 0.32089723],\n",
       "        ...,\n",
       "        [0.33138018, 0.32797742, 0.33163958, ..., 0.30597391,\n",
       "         0.31699092, 0.31721981],\n",
       "        [0.32919814, 0.32684825, 0.33022049, ..., 0.32144656,\n",
       "         0.31912718, 0.32527657],\n",
       "        [0.32933547, 0.33574426, 0.33696498, ..., 0.3183032 ,\n",
       "         0.31795224, 0.31902037]]])"
      ]
     },
     "execution_count": 7,
     "metadata": {},
     "output_type": "execute_result"
    }
   ],
   "source": [
    "load_images_to_array(\"C:\\\\Users\\\\youss\\\\OneDrive - aucegypt.edu\\\\Desktop\\\\kidney project\\\\dataset\\\\blood-vessel-segmentation\\\\test\\\\kidney_5\\\\images\",test1_scans)\n",
    "load_images_to_array(\"C:\\\\Users\\\\youss\\\\OneDrive - aucegypt.edu\\\\Desktop\\\\kidney project\\\\dataset\\\\blood-vessel-segmentation\\\\test\\\\kidney_6\\\\images\",test2_scans)\n",
    "\n"
   ]
  },
  {
   "cell_type": "code",
   "execution_count": 8,
   "id": "f443430d",
   "metadata": {},
   "outputs": [],
   "source": [
    "test1=np.array(test1_scans)"
   ]
  },
  {
   "cell_type": "code",
   "execution_count": 9,
   "id": "8496d919",
   "metadata": {},
   "outputs": [],
   "source": [
    "test2=np.array(test2_scans)"
   ]
  },
  {
   "cell_type": "code",
   "execution_count": 12,
   "id": "5e96124c",
   "metadata": {},
   "outputs": [],
   "source": [
    "from tensorflow.keras.models import load_model\n",
    "\n",
    "# Load the model\n",
    "model = load_model(\"C:\\\\Users\\\\youss\\\\OneDrive - aucegypt.edu\\\\Desktop\\\\kidney project\\\\saved_model_kidney\")\n",
    "\n",
    "# Now you can use the 'model' object for predictions\n"
   ]
  },
  {
   "cell_type": "code",
   "execution_count": 22,
   "id": "01627a02",
   "metadata": {},
   "outputs": [
    {
     "name": "stdout",
     "output_type": "stream",
     "text": [
      "1/1 [==============================] - 0s 232ms/step\n",
      "1/1 [==============================] - 0s 252ms/step\n",
      "1/1 [==============================] - 0s 237ms/step\n",
      "Image 1 RLE Output: 0 1 3 3 0 218 221 1 4 225 0 222 447 1 2 449 0 222 671 1 1 672 0 48832 49504 1 1 49505 0 222 49727 1 2 49729 0 222 49951 1 4 49955 0 218 50173 1 3\n",
      "Image 2 RLE Output: 0 1 3 3 0 218 221 1 4 225 0 222 447 1 2 449 0 222 671 1 1 672 0 48832 49504 1 1 49505 0 222 49727 1 2 49729 0 222 49951 1 4 49955 0 218 50173 1 3\n",
      "Image 3 RLE Output: 0 1 3 3 0 218 221 1 4 225 0 222 447 1 2 449 0 222 671 1 1 672 0 48832 49504 1 1 49505 0 222 49727 1 2 49729 0 222 49951 1 4 49955 0 218 50173 1 3\n"
     ]
    }
   ],
   "source": [
    "# Make predictions and encode in RLE format for each image in test1\n",
    "rle_outputs = []\n",
    "\n",
    "for img in test2:\n",
    "    # Add an extra dimension to match the expected input shape of the model\n",
    "    img = np.expand_dims(img, axis=0)\n",
    "\n",
    "    # Make prediction\n",
    "    prediction = model.predict(img)\n",
    "    \n",
    "    # Assuming your model outputs a single value per image\n",
    "    prediction_value = prediction[0]\n",
    "\n",
    "    # Encode the prediction in RLE format\n",
    "    rle_output = rle_encode(prediction_value)\n",
    "\n",
    "    rle_outputs.append(rle_output)\n",
    "\n",
    "# Print the RLE-encoded outputs\n",
    "for i, rle_output in enumerate(rle_outputs):\n",
    "    print(f\"Image {i+1} RLE Output: {rle_output}\")"
   ]
  },
  {
   "cell_type": "code",
   "execution_count": 19,
   "id": "d7d618d0",
   "metadata": {},
   "outputs": [
    {
     "data": {
      "text/plain": [
       "'0 0 50176'"
      ]
     },
     "execution_count": 19,
     "metadata": {},
     "output_type": "execute_result"
    }
   ],
   "source": [
    "rle_outputs[0]"
   ]
  },
  {
   "cell_type": "code",
   "execution_count": null,
   "id": "0bcd4e35",
   "metadata": {},
   "outputs": [],
   "source": []
  }
 ],
 "metadata": {
  "kernelspec": {
   "display_name": "Python 3 (ipykernel)",
   "language": "python",
   "name": "python3"
  },
  "language_info": {
   "codemirror_mode": {
    "name": "ipython",
    "version": 3
   },
   "file_extension": ".py",
   "mimetype": "text/x-python",
   "name": "python",
   "nbconvert_exporter": "python",
   "pygments_lexer": "ipython3",
   "version": "3.11.3"
  }
 },
 "nbformat": 4,
 "nbformat_minor": 5
}
